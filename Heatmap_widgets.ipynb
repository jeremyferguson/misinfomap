{
 "cells": [
  {
   "cell_type": "code",
   "execution_count": 13,
   "metadata": {},
   "outputs": [],
   "source": [
    "import pandas as pd\n",
    "import plotly.express as px\n",
    "import plotly.graph_objects as go\n",
    "import json, datetime as dt\n",
    "import ipywidgets as widgets\n",
    "from ipywidgets import HBox, VBox, Image, Layout\n",
    "import numpy as np\n",
    "import os"
   ]
  },
  {
   "cell_type": "code",
   "execution_count": 14,
   "metadata": {},
   "outputs": [],
   "source": [
    "imgs = {}\n",
    "case_imgs = {}\n",
    "for imgfile in os.listdir('imgs/'):\n",
    "    if imgfile != '.ipynb_checkpoints':\n",
    "        file = open(\"imgs/\"+imgfile, \"rb\")\n",
    "        image = file.read()\n",
    "        imgs[imgfile.split('.')[0]] = image\n",
    "for imgfile in os.listdir('case_imgs/'):\n",
    "    if imgfile != '.ipynb_checkpoints':\n",
    "        file = open(\"case_imgs/\"+imgfile, \"rb\")\n",
    "        image = file.read()\n",
    "        case_imgs[imgfile.split('.')[0]] = image\n",
    "misinfo_widget = Image(\n",
    "    value=imgs['CA'],\n",
    "    layout=Layout(height='252px', width='400px')\n",
    "    )\n",
    "covid_widget = Image(\n",
    "    value=case_imgs['CA'],\n",
    "    layout=Layout(height='252px', width='400px'))"
   ]
  },
  {
   "cell_type": "code",
   "execution_count": 15,
   "metadata": {},
   "outputs": [],
   "source": [
    "\n",
    "def hover_fn(trace, points, state):\n",
    "    inds = points.point_inds\n",
    "    if inds:\n",
    "        ind = inds[0]\n",
    "        trace_index = points.trace_index\n",
    "        state = trace['locations'][ind]\n",
    "        if state in imgs:\n",
    "            misinfo_widget.value = imgs[state]\n",
    "            covid_widget.value = case_imgs[state]\n",
    "    "
   ]
  },
  {
   "cell_type": "code",
   "execution_count": 16,
   "metadata": {},
   "outputs": [
    {
     "name": "stderr",
     "output_type": "stream",
     "text": [
      "c:\\users\\david\\appdata\\local\\programs\\python\\python36-32\\lib\\site-packages\\pandas\\core\\series.py:679: RuntimeWarning:\n",
      "\n",
      "divide by zero encountered in log10\n",
      "\n"
     ]
    },
    {
     "data": {
      "application/vnd.jupyter.widget-view+json": {
       "model_id": "5e8ad14906014b31988e0b5249779105",
       "version_major": 2,
       "version_minor": 0
      },
      "text/plain": [
       "VBox(children=(FigureWidget({\n",
       "    'data': [{'colorbar': {'ticktext': [100, 1000, 10000, 100000, 300000],\n",
       "     …"
      ]
     },
     "metadata": {},
     "output_type": "display_data"
    }
   ],
   "source": [
    "with open('covidstatesdaily.json') as f:\n",
    "    #data = json.load(f)\n",
    "    pandaData = pd.read_json(f)\n",
    "\n",
    "fig = go.FigureWidget()\n",
    "dataFramArr = []\n",
    "mydata = pd.DataFrame(columns=['date','state','positive'])\n",
    "currDate = \"\"\n",
    "for index, row in pandaData.iterrows():\n",
    "    if(currDate == \"\"):\n",
    "        currDate = row['date']\n",
    "    if(row['date'] != currDate):\n",
    "        currDate = row['date']\n",
    "        dataFramArr.append(mydata)\n",
    "        mydata = pd.DataFrame(columns=['date','state','positive'])\n",
    "    mydata.loc[index] = [row['date'],row['state'],row['positive']]\n",
    "    #print(dataFramArr)\n",
    "    \n",
    "for frame in dataFramArr:\n",
    "    trace = go.Choropleth(\n",
    "    locations=frame['state'], # Spatial coordinates\n",
    "    z = np.log10(frame['positive']), # Data to be color-coded\n",
    "    locationmode = 'USA-states', # set of locations match entries in `locations`\n",
    "    colorscale = 'Reds',\n",
    "    text = frame['positive'],\n",
    "    zmin = 1,\n",
    "    zmax = 6,\n",
    "    colorbar=dict(title='Confirmed Cases',\n",
    "        tickvals = [2,3,4,5,5.5],\n",
    "        ticktext = ['100','1000','10000','100000','300000'],\n",
    "    ))\n",
    "    #trace.on_hover(hover_fn)\n",
    "    fig.add_trace(trace)  \n",
    "steps = []\n",
    "for i in range(len(dataFramArr)-1,-1,-1):\n",
    "    date = dt.date(2020,4,25) + dt.timedelta(-i-1)\n",
    "    step = dict(method='restyle',\n",
    "                args=['visible', [False] * int((len(dataFramArr)))],\n",
    "                label='{}/{}'.format(date.month, date.day))\n",
    "    step['args'][1][i] = True\n",
    "    steps.append(step)\n",
    "#print(steps)\n",
    "sliders = [dict(active=0,\n",
    "                pad={\"t\": 1},\n",
    "                steps=steps)]    \n",
    "layout = dict(geo=dict(scope='usa',\n",
    "                       projection={'type': 'albers usa'}),\n",
    "              sliders=sliders)\n",
    "\n",
    "fig.update_layout(layout)\n",
    "for trace in fig.data:\n",
    "    trace.on_hover(hover_fn)\n",
    "VBox([fig, HBox([misinfo_widget, covid_widget])])"
   ]
  },
  {
   "cell_type": "code",
   "execution_count": null,
   "metadata": {},
   "outputs": [],
   "source": []
  },
  {
   "cell_type": "code",
   "execution_count": null,
   "metadata": {},
   "outputs": [],
   "source": []
  }
 ],
 "metadata": {
  "kernelspec": {
   "display_name": "Python 3",
   "language": "python",
   "name": "python3"
  },
  "language_info": {
   "codemirror_mode": {
    "name": "ipython",
    "version": 3
   },
   "file_extension": ".py",
   "mimetype": "text/x-python",
   "name": "python",
   "nbconvert_exporter": "python",
   "pygments_lexer": "ipython3",
   "version": "3.6.4"
  }
 },
 "nbformat": 4,
 "nbformat_minor": 2
}
