{
 "cells": [
  {
   "cell_type": "code",
   "execution_count": 28,
   "metadata": {},
   "outputs": [],
   "source": [
    "import pandas as pd\n",
    "import plotly.express as px\n",
    "import plotly.graph_objects as go\n",
    "import json, datetime as dt\n",
    "import ipywidgets as widgets\n",
    "from ipywidgets import HBox, VBox, Image, Layout\n",
    "import os"
   ]
  },
  {
   "cell_type": "code",
   "execution_count": 71,
   "metadata": {},
   "outputs": [],
   "source": [
    "imgs = {}\n",
    "for imgfile in os.listdir('imgs/'):\n",
    "    if imgfile != '.ipynb_checkpoints':\n",
    "        file = open(\"imgs/\"+imgfile, \"rb\")\n",
    "        image = file.read()\n",
    "        imgs[imgfile.split('.')[0]] = image\n",
    "image_widget = Image(\n",
    "    value=imgs['CA'],\n",
    "    layout=Layout(height='252px', width='400px')\n",
    "    )\n"
   ]
  },
  {
   "cell_type": "code",
   "execution_count": 72,
   "metadata": {},
   "outputs": [],
   "source": [
    "\n",
    "def hover_fn(trace, points, state):\n",
    "    inds = points.point_inds\n",
    "    if inds:\n",
    "        ind = inds[0]\n",
    "        trace_index = points.trace_index\n",
    "        state = trace['locations'][ind]\n",
    "        if state in imgs:\n",
    "            image_widget.value = imgs[state]\n",
    "    "
   ]
  },
  {
   "cell_type": "code",
   "execution_count": 73,
   "metadata": {
    "scrolled": false
   },
   "outputs": [
    {
     "data": {
      "application/vnd.jupyter.widget-view+json": {
       "model_id": "2f2c313441a8447b833bad671c7a743f",
       "version_major": 2,
       "version_minor": 0
      },
      "text/plain": [
       "VBox(children=(FigureWidget({\n",
       "    'data': [{'colorbar': {'title': {'text': 'Confirmed Cases'}},\n",
       "              …"
      ]
     },
     "metadata": {},
     "output_type": "display_data"
    }
   ],
   "source": [
    "with open('covidstatesdaily.json') as f:\n",
    "    #data = json.load(f)\n",
    "    pandaData = pd.read_json(f)\n",
    "\n",
    "fig = go.FigureWidget(data=[go.Choropleth(\n",
    "    locations=pandaData[:50]['state'], # Spatial coordinates\n",
    "    z = pandaData[:50]['positive'], # Data to be color-coded\n",
    "    locationmode = 'USA-states', # set of locations match entries in `locations`\n",
    "    colorscale = 'Reds',\n",
    "    colorbar_title = \"Confirmed Cases\",\n",
    "    \n",
    ")])\n",
    "dataFramArr = []\n",
    "mydata = pd.DataFrame(columns=['date','state','positive'])\n",
    "currDate = \"\"\n",
    "for index, row in pandaData.iterrows():\n",
    "    if(currDate == \"\"):\n",
    "        currDate = row['date']\n",
    "    if(row['date'] != currDate):\n",
    "        currDate = row['date']\n",
    "        dataFramArr.append(mydata)\n",
    "        mydata = pd.DataFrame(columns=['date','state','positive'])\n",
    "    mydata.loc[index] = [row['date'],row['state'],row['positive']]\n",
    "    #print(dataFramArr)\n",
    "    \n",
    "for frame in dataFramArr:\n",
    "    trace = go.Choropleth(\n",
    "    locations=frame['state'], # Spatial coordinates\n",
    "    z = frame['positive'], # Data to be color-coded\n",
    "    locationmode = 'USA-states', # set of locations match entries in `locations`\n",
    "    colorscale = 'Reds',\n",
    "    colorbar_title = \"Confirmed Cases\",   \n",
    "    )\n",
    "    #trace.on_hover(hover_fn)\n",
    "    fig.add_trace(trace)  \n",
    "steps = []\n",
    "for i in range(len(dataFramArr)-1,-1,-1):\n",
    "    date = dt.date(2020,4,25) + dt.timedelta(-i-1)\n",
    "    step = dict(method='restyle',\n",
    "                args=['visible', [False] * int((len(dataFramArr)))],\n",
    "                label='{}/{}'.format(date.month, date.day))\n",
    "    step['args'][1][i] = True\n",
    "    steps.append(step)\n",
    "#print(steps)\n",
    "sliders = [dict(active=0,\n",
    "                pad={\"t\": 1},\n",
    "                steps=steps)]    \n",
    "layout = dict(geo=dict(scope='usa',\n",
    "                       projection={'type': 'albers usa'}),\n",
    "              sliders=sliders)\n",
    "\n",
    "fig.update_layout(layout)\n",
    "for trace in fig.data:\n",
    "    trace.on_hover(hover_fn)\n",
    "VBox([fig, image_widget])"
   ]
  },
  {
   "cell_type": "code",
   "execution_count": null,
   "metadata": {},
   "outputs": [],
   "source": []
  }
 ],
 "metadata": {
  "kernelspec": {
   "display_name": "Python 3",
   "language": "python",
   "name": "python3"
  },
  "language_info": {
   "codemirror_mode": {
    "name": "ipython",
    "version": 3
   },
   "file_extension": ".py",
   "mimetype": "text/x-python",
   "name": "python",
   "nbconvert_exporter": "python",
   "pygments_lexer": "ipython3",
   "version": "3.7.3"
  }
 },
 "nbformat": 4,
 "nbformat_minor": 2
}
